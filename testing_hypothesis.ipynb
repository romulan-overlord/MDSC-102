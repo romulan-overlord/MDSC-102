{
 "cells": [
  {
   "cell_type": "code",
   "execution_count": 9,
   "metadata": {},
   "outputs": [],
   "source": [
    "import numpy as np\n",
    "import pandas as pd\n",
    "from scipy import stats"
   ]
  },
  {
   "cell_type": "markdown",
   "metadata": {},
   "source": [
    "Mean = 5<br>\n",
    "Variance = 4\n",
    "\n",
    "\n",
    "$$\n",
    "H_0 : \\mu = 5.2\n",
    "\\\\\n",
    "H_1 : \\mu \\neq 5.2 \n",
    "\n",
    "$$"
   ]
  },
  {
   "cell_type": "code",
   "execution_count": 5,
   "metadata": {},
   "outputs": [
    {
     "data": {
      "text/plain": [
       "array([6.03459642, 5.04146749, 3.53933105, 4.64707525, 7.0601941 ,\n",
       "       0.63877838, 4.34883301, 8.40456221, 5.04058167, 4.12465903])"
      ]
     },
     "execution_count": 5,
     "metadata": {},
     "output_type": "execute_result"
    }
   ],
   "source": [
    "data = np.random.normal(5,2,10)\n",
    "data"
   ]
  },
  {
   "cell_type": "code",
   "execution_count": 6,
   "metadata": {},
   "outputs": [
    {
     "data": {
      "text/plain": [
       "4.888007860337124"
      ]
     },
     "execution_count": 6,
     "metadata": {},
     "output_type": "execute_result"
    }
   ],
   "source": [
    "mean = 0\n",
    "\n",
    "for x in data:\n",
    "    mean = mean+x\n",
    "mean = mean/10"
   ]
  },
  {
   "cell_type": "code",
   "execution_count": 8,
   "metadata": {},
   "outputs": [
    {
     "data": {
      "text/plain": [
       "-0.4933028867020228"
      ]
     },
     "execution_count": 8,
     "metadata": {},
     "output_type": "execute_result"
    }
   ],
   "source": [
    "Z_cal = (mean - 5.2)/(2/np.sqrt(10))\n",
    "Z_cal "
   ]
  },
  {
   "cell_type": "code",
   "execution_count": 17,
   "metadata": {},
   "outputs": [
    {
     "data": {
      "text/plain": [
       "0.6217985889948168"
      ]
     },
     "execution_count": 17,
     "metadata": {},
     "output_type": "execute_result"
    }
   ],
   "source": [
    "p_value = 2 * (1 - (stats.norm.cdf(np.abs(Z_cal))))\n",
    "p_value"
   ]
  },
  {
   "cell_type": "markdown",
   "metadata": {},
   "source": [
    "## p_value is greater than 0.5, therefore we do not reject the null hypothesis"
   ]
  },
  {
   "cell_type": "markdown",
   "metadata": {},
   "source": [
    "## If variance is not known"
   ]
  },
  {
   "cell_type": "code",
   "execution_count": 24,
   "metadata": {},
   "outputs": [
    {
     "data": {
      "text/plain": [
       "4.3613757062975065"
      ]
     },
     "execution_count": 24,
     "metadata": {},
     "output_type": "execute_result"
    }
   ],
   "source": [
    "var_ = 0\n",
    "for x in data:\n",
    "    var_ += (x-mean)**2\n",
    "var_ = var_/9"
   ]
  },
  {
   "cell_type": "code",
   "execution_count": 30,
   "metadata": {},
   "outputs": [
    {
     "data": {
      "text/plain": [
       "-0.4724239456171224"
      ]
     },
     "execution_count": 30,
     "metadata": {},
     "output_type": "execute_result"
    }
   ],
   "source": [
    "t_cal = (mean - 5.2)/(np.sqrt(var_/10))\n",
    "t_cal"
   ]
  },
  {
   "cell_type": "code",
   "execution_count": 35,
   "metadata": {},
   "outputs": [
    {
     "data": {
      "text/plain": [
       "0.6217985889948168"
      ]
     },
     "execution_count": 35,
     "metadata": {},
     "output_type": "execute_result"
    }
   ],
   "source": [
    "p_value_2 = 2 * (1 - stats.t.cdf(np.abs(t_cal), 9))\n",
    "p_value"
   ]
  },
  {
   "cell_type": "markdown",
   "metadata": {},
   "source": [
    "## p_value2 is greater than 0.5, therefore we do not reject the null hypothesis"
   ]
  },
  {
   "cell_type": "markdown",
   "metadata": {},
   "source": [
    "# Testing Hypothesis with Height Data"
   ]
  },
  {
   "cell_type": "code",
   "execution_count": 37,
   "metadata": {},
   "outputs": [],
   "source": [
    "heights = [178,183,164,175,178,163,178,177,178]"
   ]
  },
  {
   "cell_type": "markdown",
   "metadata": {},
   "source": [
    "$$\n",
    "H_0 : \\mu = 178\n",
    "\\\\\n",
    "H_1 : \\mu \\neq 178\n",
    "\\\\\n",
    "\\\\\n",
    "\\alpha = 0.01\n",
    "$$"
   ]
  },
  {
   "cell_type": "code",
   "execution_count": 52,
   "metadata": {},
   "outputs": [],
   "source": [
    "def T_tester(data, alpha, mu_0):\n",
    "    size = len(data)\n",
    "    mean = 0\n",
    "    for x in data:\n",
    "        mean = mean+x\n",
    "    mean = mean/size\n",
    "\n",
    "    var_ = 0\n",
    "    for x in data:\n",
    "        var_ += (x-mean)**2\n",
    "    var_ = var_/(size - 1)\n",
    "\n",
    "    t_cal = (mean - mu_0)/(np.sqrt(var_/(size)))\n",
    "    p_value = 2 * (1 - stats.t.cdf(np.abs(t_cal), size-1))\n",
    "    reject_h0 = p_value < alpha\n",
    "    return (reject_h0, t_cal, p_value)\n",
    "          "
   ]
  },
  {
   "cell_type": "code",
   "execution_count": 53,
   "metadata": {},
   "outputs": [
    {
     "data": {
      "text/plain": [
       "(False, -1.374465942286686, 0.2065656842016952)"
      ]
     },
     "execution_count": 53,
     "metadata": {},
     "output_type": "execute_result"
    }
   ],
   "source": [
    "T_tester(heights, 0.01, 178)"
   ]
  }
 ],
 "metadata": {
  "kernelspec": {
   "display_name": "Code",
   "language": "python",
   "name": "python3"
  },
  "language_info": {
   "codemirror_mode": {
    "name": "ipython",
    "version": 3
   },
   "file_extension": ".py",
   "mimetype": "text/x-python",
   "name": "python",
   "nbconvert_exporter": "python",
   "pygments_lexer": "ipython3",
   "version": "3.11.0"
  },
  "orig_nbformat": 4
 },
 "nbformat": 4,
 "nbformat_minor": 2
}
